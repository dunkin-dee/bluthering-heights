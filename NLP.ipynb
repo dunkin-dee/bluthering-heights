{
  "nbformat": 4,
  "nbformat_minor": 0,
  "metadata": {
    "colab": {
      "provenance": []
    },
    "kernelspec": {
      "name": "python3",
      "display_name": "Python 3"
    },
    "language_info": {
      "name": "python"
    },
    "accelerator": "GPU",
    "gpuClass": "standard"
  },
  "cells": [
    {
      "cell_type": "markdown",
      "source": [
        "# Intro to NLP\n",
        "\n",
        "Deriving information from natural language\n",
        "\n",
        "Could be sequences text or speech"
      ],
      "metadata": {
        "id": "P7QAqxXMRGlS"
      }
    },
    {
      "cell_type": "code",
      "source": [
        "!nvidia-smi -L"
      ],
      "metadata": {
        "colab": {
          "base_uri": "https://localhost:8080/"
        },
        "id": "Ya4b1_Tzbynq",
        "outputId": "1975a3d4-d45a-4478-d5d0-df1f9601ec90"
      },
      "execution_count": null,
      "outputs": [
        {
          "output_type": "stream",
          "name": "stdout",
          "text": [
            "GPU 0: Tesla T4 (UUID: GPU-f8cda249-c4dc-b874-17de-cd43f93dfa4d)\n"
          ]
        }
      ]
    },
    {
      "cell_type": "code",
      "source": [
        "!wget https://raw.githubusercontent.com/mrdbourke/tensorflow-deep-learning/main/extras/helper_functions.py\n",
        "\n",
        "from helper_functions import unzip_data, create_tensorboard_callback, plot_loss_curves, compare_historys"
      ],
      "metadata": {
        "colab": {
          "base_uri": "https://localhost:8080/"
        },
        "id": "DdjCHjVYb8EI",
        "outputId": "42a8129d-07ad-4b1c-9228-c440854825a7"
      },
      "execution_count": null,
      "outputs": [
        {
          "output_type": "stream",
          "name": "stdout",
          "text": [
            "--2022-07-26 11:43:54--  https://raw.githubusercontent.com/mrdbourke/tensorflow-deep-learning/main/extras/helper_functions.py\n",
            "Resolving raw.githubusercontent.com (raw.githubusercontent.com)... 185.199.108.133, 185.199.109.133, 185.199.110.133, ...\n",
            "Connecting to raw.githubusercontent.com (raw.githubusercontent.com)|185.199.108.133|:443... connected.\n",
            "HTTP request sent, awaiting response... 200 OK\n",
            "Length: 10246 (10K) [text/plain]\n",
            "Saving to: ‘helper_functions.py’\n",
            "\n",
            "helper_functions.py 100%[===================>]  10.01K  --.-KB/s    in 0s      \n",
            "\n",
            "2022-07-26 11:43:55 (62.9 MB/s) - ‘helper_functions.py’ saved [10246/10246]\n",
            "\n"
          ]
        }
      ]
    },
    {
      "cell_type": "markdown",
      "source": [
        "## Get dataset\n",
        "\n",
        "Kaggle disaster tweet set\n",
        "\n"
      ],
      "metadata": {
        "id": "uXqFJwTycRT2"
      }
    },
    {
      "cell_type": "code",
      "source": [
        "!wget https://storage.googleapis.com/ztm_tf_course/nlp_getting_started.zip\n",
        "\n",
        "unzip_data(\"nlp_getting_started.zip\")"
      ],
      "metadata": {
        "colab": {
          "base_uri": "https://localhost:8080/"
        },
        "id": "U9GDvKhtcwU-",
        "outputId": "24b3ba8e-bbbc-434c-e5fd-364c50d90eb9"
      },
      "execution_count": null,
      "outputs": [
        {
          "output_type": "stream",
          "name": "stdout",
          "text": [
            "--2022-07-26 11:43:57--  https://storage.googleapis.com/ztm_tf_course/nlp_getting_started.zip\n",
            "Resolving storage.googleapis.com (storage.googleapis.com)... 173.194.202.128, 108.177.98.128, 74.125.197.128, ...\n",
            "Connecting to storage.googleapis.com (storage.googleapis.com)|173.194.202.128|:443... connected.\n",
            "HTTP request sent, awaiting response... 200 OK\n",
            "Length: 607343 (593K) [application/zip]\n",
            "Saving to: ‘nlp_getting_started.zip’\n",
            "\n",
            "\rnlp_getting_started   0%[                    ]       0  --.-KB/s               \rnlp_getting_started 100%[===================>] 593.11K  --.-KB/s    in 0.004s  \n",
            "\n",
            "2022-07-26 11:43:57 (150 MB/s) - ‘nlp_getting_started.zip’ saved [607343/607343]\n",
            "\n"
          ]
        }
      ]
    },
    {
      "cell_type": "code",
      "source": [],
      "metadata": {
        "id": "g01A20GpU548"
      },
      "execution_count": null,
      "outputs": []
    },
    {
      "cell_type": "markdown",
      "source": [
        "## Visualize a text dataset"
      ],
      "metadata": {
        "id": "MeiLwPSadALV"
      }
    },
    {
      "cell_type": "code",
      "source": [
        "import pandas as pd"
      ],
      "metadata": {
        "id": "O35flwJ0dRwz"
      },
      "execution_count": null,
      "outputs": []
    },
    {
      "cell_type": "code",
      "source": [
        "train_df = pd.read_csv(\"train.csv\")\n",
        "test_df = pd.read_csv(\"test.csv\")"
      ],
      "metadata": {
        "id": "y43UZ_yIdWQ6"
      },
      "execution_count": null,
      "outputs": []
    },
    {
      "cell_type": "code",
      "source": [
        "train_df.head()"
      ],
      "metadata": {
        "colab": {
          "base_uri": "https://localhost:8080/",
          "height": 206
        },
        "id": "1ckqgiUud0pn",
        "outputId": "9fef2936-2349-460d-e657-c76b89f15dee"
      },
      "execution_count": null,
      "outputs": [
        {
          "output_type": "execute_result",
          "data": {
            "text/plain": [
              "   id keyword location                                               text  \\\n",
              "0   1     NaN      NaN  Our Deeds are the Reason of this #earthquake M...   \n",
              "1   4     NaN      NaN             Forest fire near La Ronge Sask. Canada   \n",
              "2   5     NaN      NaN  All residents asked to 'shelter in place' are ...   \n",
              "3   6     NaN      NaN  13,000 people receive #wildfires evacuation or...   \n",
              "4   7     NaN      NaN  Just got sent this photo from Ruby #Alaska as ...   \n",
              "\n",
              "   target  \n",
              "0       1  \n",
              "1       1  \n",
              "2       1  \n",
              "3       1  \n",
              "4       1  "
            ],
            "text/html": [
              "\n",
              "  <div id=\"df-cbd19ff2-2bee-4be6-9538-ee466bbc0953\">\n",
              "    <div class=\"colab-df-container\">\n",
              "      <div>\n",
              "<style scoped>\n",
              "    .dataframe tbody tr th:only-of-type {\n",
              "        vertical-align: middle;\n",
              "    }\n",
              "\n",
              "    .dataframe tbody tr th {\n",
              "        vertical-align: top;\n",
              "    }\n",
              "\n",
              "    .dataframe thead th {\n",
              "        text-align: right;\n",
              "    }\n",
              "</style>\n",
              "<table border=\"1\" class=\"dataframe\">\n",
              "  <thead>\n",
              "    <tr style=\"text-align: right;\">\n",
              "      <th></th>\n",
              "      <th>id</th>\n",
              "      <th>keyword</th>\n",
              "      <th>location</th>\n",
              "      <th>text</th>\n",
              "      <th>target</th>\n",
              "    </tr>\n",
              "  </thead>\n",
              "  <tbody>\n",
              "    <tr>\n",
              "      <th>0</th>\n",
              "      <td>1</td>\n",
              "      <td>NaN</td>\n",
              "      <td>NaN</td>\n",
              "      <td>Our Deeds are the Reason of this #earthquake M...</td>\n",
              "      <td>1</td>\n",
              "    </tr>\n",
              "    <tr>\n",
              "      <th>1</th>\n",
              "      <td>4</td>\n",
              "      <td>NaN</td>\n",
              "      <td>NaN</td>\n",
              "      <td>Forest fire near La Ronge Sask. Canada</td>\n",
              "      <td>1</td>\n",
              "    </tr>\n",
              "    <tr>\n",
              "      <th>2</th>\n",
              "      <td>5</td>\n",
              "      <td>NaN</td>\n",
              "      <td>NaN</td>\n",
              "      <td>All residents asked to 'shelter in place' are ...</td>\n",
              "      <td>1</td>\n",
              "    </tr>\n",
              "    <tr>\n",
              "      <th>3</th>\n",
              "      <td>6</td>\n",
              "      <td>NaN</td>\n",
              "      <td>NaN</td>\n",
              "      <td>13,000 people receive #wildfires evacuation or...</td>\n",
              "      <td>1</td>\n",
              "    </tr>\n",
              "    <tr>\n",
              "      <th>4</th>\n",
              "      <td>7</td>\n",
              "      <td>NaN</td>\n",
              "      <td>NaN</td>\n",
              "      <td>Just got sent this photo from Ruby #Alaska as ...</td>\n",
              "      <td>1</td>\n",
              "    </tr>\n",
              "  </tbody>\n",
              "</table>\n",
              "</div>\n",
              "      <button class=\"colab-df-convert\" onclick=\"convertToInteractive('df-cbd19ff2-2bee-4be6-9538-ee466bbc0953')\"\n",
              "              title=\"Convert this dataframe to an interactive table.\"\n",
              "              style=\"display:none;\">\n",
              "        \n",
              "  <svg xmlns=\"http://www.w3.org/2000/svg\" height=\"24px\"viewBox=\"0 0 24 24\"\n",
              "       width=\"24px\">\n",
              "    <path d=\"M0 0h24v24H0V0z\" fill=\"none\"/>\n",
              "    <path d=\"M18.56 5.44l.94 2.06.94-2.06 2.06-.94-2.06-.94-.94-2.06-.94 2.06-2.06.94zm-11 1L8.5 8.5l.94-2.06 2.06-.94-2.06-.94L8.5 2.5l-.94 2.06-2.06.94zm10 10l.94 2.06.94-2.06 2.06-.94-2.06-.94-.94-2.06-.94 2.06-2.06.94z\"/><path d=\"M17.41 7.96l-1.37-1.37c-.4-.4-.92-.59-1.43-.59-.52 0-1.04.2-1.43.59L10.3 9.45l-7.72 7.72c-.78.78-.78 2.05 0 2.83L4 21.41c.39.39.9.59 1.41.59.51 0 1.02-.2 1.41-.59l7.78-7.78 2.81-2.81c.8-.78.8-2.07 0-2.86zM5.41 20L4 18.59l7.72-7.72 1.47 1.35L5.41 20z\"/>\n",
              "  </svg>\n",
              "      </button>\n",
              "      \n",
              "  <style>\n",
              "    .colab-df-container {\n",
              "      display:flex;\n",
              "      flex-wrap:wrap;\n",
              "      gap: 12px;\n",
              "    }\n",
              "\n",
              "    .colab-df-convert {\n",
              "      background-color: #E8F0FE;\n",
              "      border: none;\n",
              "      border-radius: 50%;\n",
              "      cursor: pointer;\n",
              "      display: none;\n",
              "      fill: #1967D2;\n",
              "      height: 32px;\n",
              "      padding: 0 0 0 0;\n",
              "      width: 32px;\n",
              "    }\n",
              "\n",
              "    .colab-df-convert:hover {\n",
              "      background-color: #E2EBFA;\n",
              "      box-shadow: 0px 1px 2px rgba(60, 64, 67, 0.3), 0px 1px 3px 1px rgba(60, 64, 67, 0.15);\n",
              "      fill: #174EA6;\n",
              "    }\n",
              "\n",
              "    [theme=dark] .colab-df-convert {\n",
              "      background-color: #3B4455;\n",
              "      fill: #D2E3FC;\n",
              "    }\n",
              "\n",
              "    [theme=dark] .colab-df-convert:hover {\n",
              "      background-color: #434B5C;\n",
              "      box-shadow: 0px 1px 3px 1px rgba(0, 0, 0, 0.15);\n",
              "      filter: drop-shadow(0px 1px 2px rgba(0, 0, 0, 0.3));\n",
              "      fill: #FFFFFF;\n",
              "    }\n",
              "  </style>\n",
              "\n",
              "      <script>\n",
              "        const buttonEl =\n",
              "          document.querySelector('#df-cbd19ff2-2bee-4be6-9538-ee466bbc0953 button.colab-df-convert');\n",
              "        buttonEl.style.display =\n",
              "          google.colab.kernel.accessAllowed ? 'block' : 'none';\n",
              "\n",
              "        async function convertToInteractive(key) {\n",
              "          const element = document.querySelector('#df-cbd19ff2-2bee-4be6-9538-ee466bbc0953');\n",
              "          const dataTable =\n",
              "            await google.colab.kernel.invokeFunction('convertToInteractive',\n",
              "                                                     [key], {});\n",
              "          if (!dataTable) return;\n",
              "\n",
              "          const docLinkHtml = 'Like what you see? Visit the ' +\n",
              "            '<a target=\"_blank\" href=https://colab.research.google.com/notebooks/data_table.ipynb>data table notebook</a>'\n",
              "            + ' to learn more about interactive tables.';\n",
              "          element.innerHTML = '';\n",
              "          dataTable['output_type'] = 'display_data';\n",
              "          await google.colab.output.renderOutput(dataTable, element);\n",
              "          const docLink = document.createElement('div');\n",
              "          docLink.innerHTML = docLinkHtml;\n",
              "          element.appendChild(docLink);\n",
              "        }\n",
              "      </script>\n",
              "    </div>\n",
              "  </div>\n",
              "  "
            ]
          },
          "metadata": {},
          "execution_count": 6
        }
      ]
    },
    {
      "cell_type": "code",
      "source": [
        "# Shuffle training data\n",
        "\n",
        "train_df_shuffled = train_df.sample(frac=1, random_state=42)\n",
        "train_df_shuffled.head()"
      ],
      "metadata": {
        "colab": {
          "base_uri": "https://localhost:8080/",
          "height": 206
        },
        "id": "99foWRRcd2Ai",
        "outputId": "506be9c9-e143-40ba-94c2-a9a61fb2264a"
      },
      "execution_count": null,
      "outputs": [
        {
          "output_type": "execute_result",
          "data": {
            "text/plain": [
              "        id      keyword               location  \\\n",
              "2644  3796  destruction                    NaN   \n",
              "2227  3185       deluge                    NaN   \n",
              "5448  7769       police                     UK   \n",
              "132    191   aftershock                    NaN   \n",
              "6845  9810       trauma  Montgomery County, MD   \n",
              "\n",
              "                                                   text  target  \n",
              "2644  So you have a new weapon that can cause un-ima...       1  \n",
              "2227  The f$&amp;@ing things I do for #GISHWHES Just...       0  \n",
              "5448  DT @georgegalloway: RT @Galloway4Mayor: ÛÏThe...       1  \n",
              "132   Aftershock back to school kick off was great. ...       0  \n",
              "6845  in response to trauma Children of Addicts deve...       0  "
            ],
            "text/html": [
              "\n",
              "  <div id=\"df-b2bd4056-0885-4af7-a25e-9101ba14852b\">\n",
              "    <div class=\"colab-df-container\">\n",
              "      <div>\n",
              "<style scoped>\n",
              "    .dataframe tbody tr th:only-of-type {\n",
              "        vertical-align: middle;\n",
              "    }\n",
              "\n",
              "    .dataframe tbody tr th {\n",
              "        vertical-align: top;\n",
              "    }\n",
              "\n",
              "    .dataframe thead th {\n",
              "        text-align: right;\n",
              "    }\n",
              "</style>\n",
              "<table border=\"1\" class=\"dataframe\">\n",
              "  <thead>\n",
              "    <tr style=\"text-align: right;\">\n",
              "      <th></th>\n",
              "      <th>id</th>\n",
              "      <th>keyword</th>\n",
              "      <th>location</th>\n",
              "      <th>text</th>\n",
              "      <th>target</th>\n",
              "    </tr>\n",
              "  </thead>\n",
              "  <tbody>\n",
              "    <tr>\n",
              "      <th>2644</th>\n",
              "      <td>3796</td>\n",
              "      <td>destruction</td>\n",
              "      <td>NaN</td>\n",
              "      <td>So you have a new weapon that can cause un-ima...</td>\n",
              "      <td>1</td>\n",
              "    </tr>\n",
              "    <tr>\n",
              "      <th>2227</th>\n",
              "      <td>3185</td>\n",
              "      <td>deluge</td>\n",
              "      <td>NaN</td>\n",
              "      <td>The f$&amp;amp;@ing things I do for #GISHWHES Just...</td>\n",
              "      <td>0</td>\n",
              "    </tr>\n",
              "    <tr>\n",
              "      <th>5448</th>\n",
              "      <td>7769</td>\n",
              "      <td>police</td>\n",
              "      <td>UK</td>\n",
              "      <td>DT @georgegalloway: RT @Galloway4Mayor: ÛÏThe...</td>\n",
              "      <td>1</td>\n",
              "    </tr>\n",
              "    <tr>\n",
              "      <th>132</th>\n",
              "      <td>191</td>\n",
              "      <td>aftershock</td>\n",
              "      <td>NaN</td>\n",
              "      <td>Aftershock back to school kick off was great. ...</td>\n",
              "      <td>0</td>\n",
              "    </tr>\n",
              "    <tr>\n",
              "      <th>6845</th>\n",
              "      <td>9810</td>\n",
              "      <td>trauma</td>\n",
              "      <td>Montgomery County, MD</td>\n",
              "      <td>in response to trauma Children of Addicts deve...</td>\n",
              "      <td>0</td>\n",
              "    </tr>\n",
              "  </tbody>\n",
              "</table>\n",
              "</div>\n",
              "      <button class=\"colab-df-convert\" onclick=\"convertToInteractive('df-b2bd4056-0885-4af7-a25e-9101ba14852b')\"\n",
              "              title=\"Convert this dataframe to an interactive table.\"\n",
              "              style=\"display:none;\">\n",
              "        \n",
              "  <svg xmlns=\"http://www.w3.org/2000/svg\" height=\"24px\"viewBox=\"0 0 24 24\"\n",
              "       width=\"24px\">\n",
              "    <path d=\"M0 0h24v24H0V0z\" fill=\"none\"/>\n",
              "    <path d=\"M18.56 5.44l.94 2.06.94-2.06 2.06-.94-2.06-.94-.94-2.06-.94 2.06-2.06.94zm-11 1L8.5 8.5l.94-2.06 2.06-.94-2.06-.94L8.5 2.5l-.94 2.06-2.06.94zm10 10l.94 2.06.94-2.06 2.06-.94-2.06-.94-.94-2.06-.94 2.06-2.06.94z\"/><path d=\"M17.41 7.96l-1.37-1.37c-.4-.4-.92-.59-1.43-.59-.52 0-1.04.2-1.43.59L10.3 9.45l-7.72 7.72c-.78.78-.78 2.05 0 2.83L4 21.41c.39.39.9.59 1.41.59.51 0 1.02-.2 1.41-.59l7.78-7.78 2.81-2.81c.8-.78.8-2.07 0-2.86zM5.41 20L4 18.59l7.72-7.72 1.47 1.35L5.41 20z\"/>\n",
              "  </svg>\n",
              "      </button>\n",
              "      \n",
              "  <style>\n",
              "    .colab-df-container {\n",
              "      display:flex;\n",
              "      flex-wrap:wrap;\n",
              "      gap: 12px;\n",
              "    }\n",
              "\n",
              "    .colab-df-convert {\n",
              "      background-color: #E8F0FE;\n",
              "      border: none;\n",
              "      border-radius: 50%;\n",
              "      cursor: pointer;\n",
              "      display: none;\n",
              "      fill: #1967D2;\n",
              "      height: 32px;\n",
              "      padding: 0 0 0 0;\n",
              "      width: 32px;\n",
              "    }\n",
              "\n",
              "    .colab-df-convert:hover {\n",
              "      background-color: #E2EBFA;\n",
              "      box-shadow: 0px 1px 2px rgba(60, 64, 67, 0.3), 0px 1px 3px 1px rgba(60, 64, 67, 0.15);\n",
              "      fill: #174EA6;\n",
              "    }\n",
              "\n",
              "    [theme=dark] .colab-df-convert {\n",
              "      background-color: #3B4455;\n",
              "      fill: #D2E3FC;\n",
              "    }\n",
              "\n",
              "    [theme=dark] .colab-df-convert:hover {\n",
              "      background-color: #434B5C;\n",
              "      box-shadow: 0px 1px 3px 1px rgba(0, 0, 0, 0.15);\n",
              "      filter: drop-shadow(0px 1px 2px rgba(0, 0, 0, 0.3));\n",
              "      fill: #FFFFFF;\n",
              "    }\n",
              "  </style>\n",
              "\n",
              "      <script>\n",
              "        const buttonEl =\n",
              "          document.querySelector('#df-b2bd4056-0885-4af7-a25e-9101ba14852b button.colab-df-convert');\n",
              "        buttonEl.style.display =\n",
              "          google.colab.kernel.accessAllowed ? 'block' : 'none';\n",
              "\n",
              "        async function convertToInteractive(key) {\n",
              "          const element = document.querySelector('#df-b2bd4056-0885-4af7-a25e-9101ba14852b');\n",
              "          const dataTable =\n",
              "            await google.colab.kernel.invokeFunction('convertToInteractive',\n",
              "                                                     [key], {});\n",
              "          if (!dataTable) return;\n",
              "\n",
              "          const docLinkHtml = 'Like what you see? Visit the ' +\n",
              "            '<a target=\"_blank\" href=https://colab.research.google.com/notebooks/data_table.ipynb>data table notebook</a>'\n",
              "            + ' to learn more about interactive tables.';\n",
              "          element.innerHTML = '';\n",
              "          dataTable['output_type'] = 'display_data';\n",
              "          await google.colab.output.renderOutput(dataTable, element);\n",
              "          const docLink = document.createElement('div');\n",
              "          docLink.innerHTML = docLinkHtml;\n",
              "          element.appendChild(docLink);\n",
              "        }\n",
              "      </script>\n",
              "    </div>\n",
              "  </div>\n",
              "  "
            ]
          },
          "metadata": {},
          "execution_count": 7
        }
      ]
    },
    {
      "cell_type": "code",
      "source": [
        "train_df.target.value_counts()"
      ],
      "metadata": {
        "colab": {
          "base_uri": "https://localhost:8080/"
        },
        "id": "qM7Bm3i5eUM3",
        "outputId": "f580e497-775e-4f70-b7dc-2b853c9b0c72"
      },
      "execution_count": null,
      "outputs": [
        {
          "output_type": "execute_result",
          "data": {
            "text/plain": [
              "0    4342\n",
              "1    3271\n",
              "Name: target, dtype: int64"
            ]
          },
          "metadata": {},
          "execution_count": 8
        }
      ]
    },
    {
      "cell_type": "code",
      "source": [
        "import random\n",
        "random_index = random.randint(0, len(train_df)-5)\n",
        "\n",
        "for row in train_df_shuffled[[\"text\", \"target\"]][random_index:random_index + 5].itertuples():\n",
        "  _, text, target = row\n",
        "  print(f\"Target: {target}\", \"(real disaster)\" if target > 0 else \"(not real)\")\n",
        "  print(f\"Text:\\n {text}\\n\")\n",
        "  print(\"---\\n\")"
      ],
      "metadata": {
        "colab": {
          "base_uri": "https://localhost:8080/"
        },
        "id": "Qz8L9iC1eqRQ",
        "outputId": "cbe9066c-16f8-496e-c038-bcbc2707b4e8"
      },
      "execution_count": null,
      "outputs": [
        {
          "output_type": "stream",
          "name": "stdout",
          "text": [
            "Target: 1 (real disaster)\n",
            "Text:\n",
            " @fadelurker @dalinthanelan &lt; right now.\n",
            "\n",
            "Even after two years there were still refugees camped just south of Redcliffe village and Aidan &gt;\n",
            "\n",
            "---\n",
            "\n",
            "Target: 0 (not real)\n",
            "Text:\n",
            " To navigate inevitable upheaval internal audit must lead the way http://t.co/je86VetDxh\n",
            "\n",
            "---\n",
            "\n",
            "Target: 1 (real disaster)\n",
            "Text:\n",
            " After the green line derailment my concern for track that looks like this goes up a bit... @cta @CTAFails http://t.co/1uDz0NVOEH\n",
            "\n",
            "---\n",
            "\n",
            "Target: 1 (real disaster)\n",
            "Text:\n",
            " RT: 40HourFamine: In #Bangladesh government has not declared floods an emergency. #WorldVision will continue to mÛ_ http://t.co/XqdVghz8G6\n",
            "\n",
            "---\n",
            "\n",
            "Target: 0 (not real)\n",
            "Text:\n",
            " @eles_kaylee @Jannellix0 so she puts on a different face for you ?? her heart broke after buying me lava cakes smh\n",
            "\n",
            "---\n",
            "\n"
          ]
        }
      ]
    },
    {
      "cell_type": "markdown",
      "source": [
        "### Split training for a validation set as well"
      ],
      "metadata": {
        "id": "QK9-YnKd7zTu"
      }
    },
    {
      "cell_type": "code",
      "source": [
        "from sklearn.model_selection import train_test_split"
      ],
      "metadata": {
        "id": "rGruSMjZ73ib"
      },
      "execution_count": null,
      "outputs": []
    },
    {
      "cell_type": "code",
      "source": [
        "train_text, val_text, train_labels, val_labels = train_test_split(train_df_shuffled['text'].to_numpy(),\n",
        "                                                                  train_df_shuffled['target'].to_numpy(),\n",
        "                                                                  test_size=0.1,\n",
        "                                                                  random_state=42)"
      ],
      "metadata": {
        "id": "yRscjsMo7_qq"
      },
      "execution_count": null,
      "outputs": []
    },
    {
      "cell_type": "code",
      "source": [
        "len(train_text), len(train_labels), len(val_text), len(val_labels)"
      ],
      "metadata": {
        "colab": {
          "base_uri": "https://localhost:8080/"
        },
        "id": "jWAcpzqK_d3R",
        "outputId": "e4890795-0040-4650-dfce-f3a8a889ea32"
      },
      "execution_count": null,
      "outputs": [
        {
          "output_type": "execute_result",
          "data": {
            "text/plain": [
              "(6851, 6851, 762, 762)"
            ]
          },
          "metadata": {},
          "execution_count": 12
        }
      ]
    },
    {
      "cell_type": "code",
      "source": [
        "train_text[:10], train_labels[:10]"
      ],
      "metadata": {
        "colab": {
          "base_uri": "https://localhost:8080/"
        },
        "id": "n8WpkEk7_f9u",
        "outputId": "38c92bb3-1edf-49fa-c39f-dc0834f2e819"
      },
      "execution_count": null,
      "outputs": [
        {
          "output_type": "execute_result",
          "data": {
            "text/plain": [
              "(array(['@mogacola @zamtriossu i screamed after hitting tweet',\n",
              "        'Imagine getting flattened by Kurt Zouma',\n",
              "        '@Gurmeetramrahim #MSGDoing111WelfareWorks Green S welfare force ke appx 65000 members har time disaster victim ki help ke liye tyar hai....',\n",
              "        \"@shakjn @C7 @Magnums im shaking in fear he's gonna hack the planet\",\n",
              "        'Somehow find you and I collide http://t.co/Ee8RpOahPk',\n",
              "        '@EvaHanderek @MarleyKnysh great times until the bus driver held us hostage in the mall parking lot lmfao',\n",
              "        'destroy the free fandom honestly',\n",
              "        'Weapons stolen from National Guard Armory in New Albany still missing #Gunsense http://t.co/lKNU8902JE',\n",
              "        '@wfaaweather Pete when will the heat wave pass? Is it really going to be mid month? Frisco Boy Scouts have a canoe trip in Okla.',\n",
              "        'Patient-reported outcomes in long-term survivors of metastatic colorectal cancer - British Journal of Surgery http://t.co/5Yl4DC1Tqt'],\n",
              "       dtype=object), array([0, 0, 1, 0, 0, 1, 1, 0, 1, 1]))"
            ]
          },
          "metadata": {},
          "execution_count": 13
        }
      ]
    },
    {
      "cell_type": "markdown",
      "source": [
        "## Converting text to numbers"
      ],
      "metadata": {
        "id": "1fCQzmpwACvL"
      }
    },
    {
      "cell_type": "code",
      "source": [
        "# Text vectorization(tokenization)\n"
      ],
      "metadata": {
        "id": "6W4j7Zmp8eeN"
      },
      "execution_count": null,
      "outputs": []
    },
    {
      "cell_type": "code",
      "source": [
        "import tensorflow as tf"
      ],
      "metadata": {
        "id": "1knBTfmwRLhB"
      },
      "execution_count": null,
      "outputs": []
    },
    {
      "cell_type": "code",
      "source": [
        "from tensorflow.keras.layers import TextVectorization"
      ],
      "metadata": {
        "id": "PNo3dJ_3RN86"
      },
      "execution_count": null,
      "outputs": []
    },
    {
      "cell_type": "code",
      "source": [
        "text_vectorizer = TextVectorization(max_tokens=None,\n",
        "                                    standardize=\"lower_and_strip_punctuation\",\n",
        "                                    split=\"whitespace\",\n",
        "                                    ngrams=None,\n",
        "                                    output_mode='int',\n",
        "                                    output_sequence_length=None)"
      ],
      "metadata": {
        "id": "bgOZeu8JRXzM"
      },
      "execution_count": null,
      "outputs": []
    },
    {
      "cell_type": "code",
      "source": [
        "x = round(sum([len(i.split()) for i in train_text])/len(train_text))"
      ],
      "metadata": {
        "id": "_wybGaA1Wzxg"
      },
      "execution_count": null,
      "outputs": []
    },
    {
      "cell_type": "code",
      "source": [
        "x"
      ],
      "metadata": {
        "colab": {
          "base_uri": "https://localhost:8080/"
        },
        "id": "uaRenJYIXacd",
        "outputId": "75f8f8df-7cdc-4536-f895-5a7efe08a074"
      },
      "execution_count": null,
      "outputs": [
        {
          "output_type": "execute_result",
          "data": {
            "text/plain": [
              "15"
            ]
          },
          "metadata": {},
          "execution_count": 19
        }
      ]
    },
    {
      "cell_type": "code",
      "source": [
        "max_vocab_length = 10000\n",
        "max_length = x\n",
        "text_vectorizer = TextVectorization(max_tokens=max_vocab_length,\n",
        "                                    output_mode='int',\n",
        "                                    output_sequence_length=max_length)"
      ],
      "metadata": {
        "id": "6_VamLJ0Xjmd"
      },
      "execution_count": null,
      "outputs": []
    },
    {
      "cell_type": "code",
      "source": [
        "text_vectorizer.adapt(train_text)"
      ],
      "metadata": {
        "id": "e22CTIHrJQBy"
      },
      "execution_count": null,
      "outputs": []
    },
    {
      "cell_type": "code",
      "source": [
        "sample_sentence = \"There's a flood in my street!\"\n",
        "text_vectorizer([sample_sentence])"
      ],
      "metadata": {
        "colab": {
          "base_uri": "https://localhost:8080/"
        },
        "id": "dK9rM0VkYLaW",
        "outputId": "217852c7-c990-4661-ce5f-34dbf99d317b"
      },
      "execution_count": null,
      "outputs": [
        {
          "output_type": "execute_result",
          "data": {
            "text/plain": [
              "<tf.Tensor: shape=(1, 15), dtype=int64, numpy=\n",
              "array([[264,   3, 232,   4,  13, 698,   0,   0,   0,   0,   0,   0,   0,\n",
              "          0,   0]])>"
            ]
          },
          "metadata": {},
          "execution_count": 22
        }
      ]
    },
    {
      "cell_type": "code",
      "source": [
        "random_sentence = random.choice(train_text)\n",
        "print(f\"Original text:\\n{random_sentence}\\\n",
        "      \\n\\nVectorized version:\\n{text_vectorizer(random_sentence)}\")"
      ],
      "metadata": {
        "colab": {
          "base_uri": "https://localhost:8080/"
        },
        "id": "PtsXRKpuI9bY",
        "outputId": "25aa44b9-b396-4b48-d44a-8ee355b4d758"
      },
      "execution_count": null,
      "outputs": [
        {
          "output_type": "stream",
          "name": "stdout",
          "text": [
            "Original text:\n",
            "@CortezEra I dead ass screamed when we signed him I couldn't fucking believe it      \n",
            "\n",
            "Vectorized version:\n",
            "[   1    8  115  227  387   45   46 1592  158    8 2149  255  610   15\n",
            "    0]\n"
          ]
        }
      ]
    },
    {
      "cell_type": "code",
      "source": [
        "len(text_vectorizer.get_vocabulary())"
      ],
      "metadata": {
        "colab": {
          "base_uri": "https://localhost:8080/"
        },
        "id": "9rdZhYwxK7rc",
        "outputId": "9e9ee136-38bc-47aa-a5cf-3974b5e495cc"
      },
      "execution_count": null,
      "outputs": [
        {
          "output_type": "execute_result",
          "data": {
            "text/plain": [
              "10000"
            ]
          },
          "metadata": {},
          "execution_count": 24
        }
      ]
    },
    {
      "cell_type": "markdown",
      "source": [
        "### Creating an embedding layer"
      ],
      "metadata": {
        "id": "Lc-QmITtMOhP"
      }
    },
    {
      "cell_type": "code",
      "source": [
        "from tensorflow.keras import layers\n",
        "\n",
        "embedding = layers.Embedding(input_dim=max_vocab_length,\n",
        "                             output_dim=128,\n",
        "                             input_length=max_length)"
      ],
      "metadata": {
        "id": "UbBeT4MfPqSc"
      },
      "execution_count": null,
      "outputs": []
    },
    {
      "cell_type": "code",
      "source": [
        "random_sentence = random.choice(train_text)\n",
        "print(f\"Original text:\\n{random_sentence}\\\n",
        "      \\n\\nEmbedded version:\\n\")\n",
        "\n",
        "embedding(text_vectorizer([random_sentence]))"
      ],
      "metadata": {
        "colab": {
          "base_uri": "https://localhost:8080/"
        },
        "id": "60MfqORQQ7l1",
        "outputId": "53a09ab6-7d32-47eb-ce03-a330bc364ed4"
      },
      "execution_count": null,
      "outputs": [
        {
          "output_type": "stream",
          "name": "stdout",
          "text": [
            "Original text:\n",
            "Tonight is being quite interesting... A few minutes ago the fire system went off and we had to evacuate the building.      \n",
            "\n",
            "Embedded version:\n",
            "\n"
          ]
        },
        {
          "output_type": "execute_result",
          "data": {
            "text/plain": [
              "<tf.Tensor: shape=(1, 15, 128), dtype=float32, numpy=\n",
              "array([[[-1.09613165e-02,  3.22210826e-02,  8.87353346e-03, ...,\n",
              "          3.10883783e-02, -5.37261367e-05, -4.28328663e-03],\n",
              "        [-1.19592175e-02,  4.91891764e-02,  3.23994793e-02, ...,\n",
              "          1.80437006e-02,  3.91310118e-02, -1.99191570e-02],\n",
              "        [ 3.95756848e-02,  4.39401157e-02, -1.97380781e-03, ...,\n",
              "         -2.05923915e-02, -1.73143856e-02,  4.02139463e-02],\n",
              "        ...,\n",
              "        [-1.54418349e-02,  2.70414017e-02, -1.06879249e-02, ...,\n",
              "         -2.82532573e-02,  6.74171373e-03, -2.46619582e-02],\n",
              "        [ 2.22626813e-02,  3.38884704e-02,  2.34860182e-03, ...,\n",
              "          1.11422539e-02,  3.79298367e-02, -1.39646418e-02],\n",
              "        [ 1.35909356e-02,  4.97276820e-02,  4.17434089e-02, ...,\n",
              "         -3.04315574e-02,  2.18077041e-02,  2.70139053e-03]]],\n",
              "      dtype=float32)>"
            ]
          },
          "metadata": {},
          "execution_count": 26
        }
      ]
    },
    {
      "cell_type": "markdown",
      "source": [
        "## Modelling a text dataset\n",
        "\n",
        "* Model 0 Naive Bayes\n",
        "* Model 1 Feed-forward neural network\n",
        "* Model 2 LSTM\n",
        "* Model 3 GRU\n",
        "* Model 4 Bidirectional-LSTM\n",
        "* Model 5 1D Convolutional Neural Network\n",
        "* Model 6 Tensorflow Hub Pretrained\n",
        "* Model 7 As above but on 10%"
      ],
      "metadata": {
        "id": "v309WdOMRr86"
      }
    },
    {
      "cell_type": "markdown",
      "source": [
        "### Model 0: Getting a baseline\n",
        "\n",
        "Sklearn's Multinomial Naive Bayes TF-IDF formula to convert our words into numbers"
      ],
      "metadata": {
        "id": "mz0LgZbnSc0Q"
      }
    },
    {
      "cell_type": "code",
      "source": [
        "from sklearn.feature_extraction.text import TfidfVectorizer\n",
        "from sklearn.naive_bayes import MultinomialNB\n",
        "from sklearn.pipeline import Pipeline\n",
        "\n",
        "# Create tokenization and modelling pipeline\n",
        "model_0 = Pipeline([\n",
        "                    (\"tfidf\", TfidfVectorizer()),\n",
        "                    (\"clf\", MultinomialNB())\n",
        "])\n",
        "\n",
        "model_0.fit(train_text, train_labels)"
      ],
      "metadata": {
        "colab": {
          "base_uri": "https://localhost:8080/"
        },
        "id": "mu8UbVVd7OGC",
        "outputId": "d5dbb211-9850-4b13-db09-464708a794ff"
      },
      "execution_count": null,
      "outputs": [
        {
          "output_type": "execute_result",
          "data": {
            "text/plain": [
              "Pipeline(steps=[('tfidf', TfidfVectorizer()), ('clf', MultinomialNB())])"
            ]
          },
          "metadata": {},
          "execution_count": 27
        }
      ]
    },
    {
      "cell_type": "code",
      "source": [
        "baseline_score = model_0.score(val_text, val_labels)"
      ],
      "metadata": {
        "id": "fO-q4Eub9BpX"
      },
      "execution_count": null,
      "outputs": []
    },
    {
      "cell_type": "code",
      "source": [
        "print(f\"{baseline_score*100:.2f}%\")"
      ],
      "metadata": {
        "colab": {
          "base_uri": "https://localhost:8080/"
        },
        "id": "YNMWXHk-9QsF",
        "outputId": "0af94f5b-47c0-405f-ecb8-8c070284164d"
      },
      "execution_count": null,
      "outputs": [
        {
          "output_type": "stream",
          "name": "stdout",
          "text": [
            "79.27%\n"
          ]
        }
      ]
    },
    {
      "cell_type": "code",
      "source": [
        "baseline_preds = model_0.predict(val_text)\n",
        "baseline_preds[:20]"
      ],
      "metadata": {
        "colab": {
          "base_uri": "https://localhost:8080/"
        },
        "id": "PSP4CofY9StM",
        "outputId": "579a5fee-a646-4041-e7d8-d6fa4b3bf8b3"
      },
      "execution_count": null,
      "outputs": [
        {
          "output_type": "execute_result",
          "data": {
            "text/plain": [
              "array([1, 1, 1, 0, 0, 1, 1, 1, 1, 0, 0, 1, 0, 0, 0, 0, 0, 0, 0, 1])"
            ]
          },
          "metadata": {},
          "execution_count": 30
        }
      ]
    },
    {
      "cell_type": "code",
      "source": [
        "from sklearn.metrics import accuracy_score, precision_recall_fscore_support\n",
        "\n",
        "def model_scores(y_true, y_pred):\n",
        "  model_accuracy = accuracy_score(y_true=y_true, y_pred=y_pred) * 100\n",
        "  model_precision, model_recall, model_f1, _ = precision_recall_fscore_support(y_true, y_pred, average='weighted')\n",
        "\n",
        "  model_results = {\n",
        "      \"accuracy\": model_accuracy,\n",
        "      \"precision\": model_precision,\n",
        "      \"recall\": model_recall,\n",
        "      \"f1\": model_f1\n",
        "  }\n",
        "\n",
        "  return model_results"
      ],
      "metadata": {
        "id": "AvoxmgMX92je"
      },
      "execution_count": null,
      "outputs": []
    },
    {
      "cell_type": "code",
      "source": [
        "baseline_results = model_scores(val_labels,\n",
        "                                baseline_preds)\n",
        "baseline_results"
      ],
      "metadata": {
        "colab": {
          "base_uri": "https://localhost:8080/"
        },
        "id": "i1EEHD_oDdTb",
        "outputId": "a3e9bbf2-38a0-45c7-e38b-720755f3752e"
      },
      "execution_count": null,
      "outputs": [
        {
          "output_type": "execute_result",
          "data": {
            "text/plain": [
              "{'accuracy': 79.26509186351706,\n",
              " 'f1': 0.7862189758049549,\n",
              " 'precision': 0.8111390004213173,\n",
              " 'recall': 0.7926509186351706}"
            ]
          },
          "metadata": {},
          "execution_count": 32
        }
      ]
    },
    {
      "cell_type": "markdown",
      "source": [
        "### Model 1: A simple dense model\n",
        "\n"
      ],
      "metadata": {
        "id": "lHY5k4DgDxaZ"
      }
    },
    {
      "cell_type": "code",
      "source": [
        "# Create a tensorboard callback\n",
        "\n",
        "SAVE_DIR = \"model_logs\""
      ],
      "metadata": {
        "id": "vfvX6OwaJ7hj"
      },
      "execution_count": null,
      "outputs": []
    },
    {
      "cell_type": "code",
      "source": [
        "#Build model with functional API\n",
        "\n",
        "from tensorflow.keras import layers\n",
        "\n",
        "inputs = layers.Input(shape=(1,), dtype=tf.string)\n",
        "x = text_vectorizer(inputs)\n",
        "x = embedding(x)\n",
        "x=layers.GlobalAveragePooling1D()(x)\n",
        "outputs = layers.Dense(1, activation=\"sigmoid\", name=\"output\")(x)\n",
        "model_1 = tf.keras.Model(inputs, outputs, name=\"model_1_dense\")"
      ],
      "metadata": {
        "id": "-qznldOdKP2o"
      },
      "execution_count": null,
      "outputs": []
    },
    {
      "cell_type": "code",
      "source": [
        "model_1.summary()"
      ],
      "metadata": {
        "colab": {
          "base_uri": "https://localhost:8080/"
        },
        "id": "-G2W8co1LGd1",
        "outputId": "d6d9bea2-3566-4123-c45b-541686e658b8"
      },
      "execution_count": null,
      "outputs": [
        {
          "output_type": "stream",
          "name": "stdout",
          "text": [
            "Model: \"model_1_dense\"\n",
            "_________________________________________________________________\n",
            " Layer (type)                Output Shape              Param #   \n",
            "=================================================================\n",
            " input_1 (InputLayer)        [(None, 1)]               0         \n",
            "                                                                 \n",
            " text_vectorization_1 (TextV  (None, 15)               0         \n",
            " ectorization)                                                   \n",
            "                                                                 \n",
            " embedding (Embedding)       (None, 15, 128)           1280000   \n",
            "                                                                 \n",
            " global_average_pooling1d (G  (None, 128)              0         \n",
            " lobalAveragePooling1D)                                          \n",
            "                                                                 \n",
            " output (Dense)              (None, 1)                 129       \n",
            "                                                                 \n",
            "=================================================================\n",
            "Total params: 1,280,129\n",
            "Trainable params: 1,280,129\n",
            "Non-trainable params: 0\n",
            "_________________________________________________________________\n"
          ]
        }
      ]
    },
    {
      "cell_type": "code",
      "source": [
        "model_1.compile(loss=\"binary_crossentropy\",\n",
        "                optimizer=tf.keras.optimizers.Adam(),\n",
        "                metrics=[\"accuracy\"])"
      ],
      "metadata": {
        "id": "1XoT7qCBLNA1"
      },
      "execution_count": null,
      "outputs": []
    },
    {
      "cell_type": "code",
      "source": [
        "history_1 = model_1.fit(train_text,\n",
        "                        train_labels,\n",
        "                        epochs=5,\n",
        "                        validation_data=(val_text, val_labels),\n",
        "                        callbacks=[create_tensorboard_callback(SAVE_DIR, 'model_1')])"
      ],
      "metadata": {
        "colab": {
          "base_uri": "https://localhost:8080/"
        },
        "id": "7TPO2vnbLq-P",
        "outputId": "572e4e61-7919-4478-98dc-b114df2e983c"
      },
      "execution_count": null,
      "outputs": [
        {
          "output_type": "stream",
          "name": "stdout",
          "text": [
            "Saving TensorBoard log files to: model_logs/model_1/20220726-114403\n",
            "Epoch 1/5\n",
            "215/215 [==============================] - 6s 9ms/step - loss: 0.6126 - accuracy: 0.6929 - val_loss: 0.5365 - val_accuracy: 0.7625\n",
            "Epoch 2/5\n",
            "215/215 [==============================] - 2s 7ms/step - loss: 0.4431 - accuracy: 0.8155 - val_loss: 0.4705 - val_accuracy: 0.7887\n",
            "Epoch 3/5\n",
            "215/215 [==============================] - 2s 7ms/step - loss: 0.3483 - accuracy: 0.8593 - val_loss: 0.4579 - val_accuracy: 0.7900\n",
            "Epoch 4/5\n",
            "215/215 [==============================] - 2s 8ms/step - loss: 0.2852 - accuracy: 0.8911 - val_loss: 0.4677 - val_accuracy: 0.7913\n",
            "Epoch 5/5\n",
            "215/215 [==============================] - 2s 8ms/step - loss: 0.2381 - accuracy: 0.9108 - val_loss: 0.4775 - val_accuracy: 0.7835\n"
          ]
        }
      ]
    },
    {
      "cell_type": "code",
      "source": [
        "model_1_pred_probs = model_1.predict(val_text)"
      ],
      "metadata": {
        "id": "oTsYOFLYMNo_"
      },
      "execution_count": null,
      "outputs": []
    },
    {
      "cell_type": "code",
      "source": [
        "model_1_preds = tf.squeeze(tf.round(model_1_pred_probs))"
      ],
      "metadata": {
        "id": "d-yaVixwOB0q"
      },
      "execution_count": null,
      "outputs": []
    },
    {
      "cell_type": "code",
      "source": [
        "model_1_scores = model_scores(val_labels, model_1_preds)"
      ],
      "metadata": {
        "id": "TuTJp36JOTu6"
      },
      "execution_count": null,
      "outputs": []
    },
    {
      "cell_type": "code",
      "source": [
        "import numpy as np"
      ],
      "metadata": {
        "id": "pc3xsk9Sh90z"
      },
      "execution_count": null,
      "outputs": []
    },
    {
      "cell_type": "code",
      "source": [
        "np.array(list(model_1_scores)) > np.array(list(baseline_results))"
      ],
      "metadata": {
        "colab": {
          "base_uri": "https://localhost:8080/"
        },
        "id": "i5jRphfmOVG2",
        "outputId": "ff5faa92-d1d5-4911-aea3-64e6cd39abb5"
      },
      "execution_count": null,
      "outputs": [
        {
          "output_type": "execute_result",
          "data": {
            "text/plain": [
              "array([False, False, False, False])"
            ]
          },
          "metadata": {},
          "execution_count": 42
        }
      ]
    },
    {
      "cell_type": "code",
      "source": [
        "words_in_vocab = text_vectorizer.get_vocabulary()"
      ],
      "metadata": {
        "id": "8_npA4-Xh6Nd"
      },
      "execution_count": null,
      "outputs": []
    },
    {
      "cell_type": "code",
      "source": [
        "words_in_vocab[:10]"
      ],
      "metadata": {
        "colab": {
          "base_uri": "https://localhost:8080/"
        },
        "id": "-R974nZ9iJEO",
        "outputId": "85a675f3-ac78-40f6-9633-106838e39157"
      },
      "execution_count": null,
      "outputs": [
        {
          "output_type": "execute_result",
          "data": {
            "text/plain": [
              "['', '[UNK]', 'the', 'a', 'in', 'to', 'of', 'and', 'i', 'is']"
            ]
          },
          "metadata": {},
          "execution_count": 44
        }
      ]
    },
    {
      "cell_type": "code",
      "source": [
        "embed_weights = model_1.get_layer(\"embedding\").get_weights()[0]"
      ],
      "metadata": {
        "id": "0rVymebNiOSC"
      },
      "execution_count": null,
      "outputs": []
    },
    {
      "cell_type": "code",
      "source": [
        "embed_weights.shape"
      ],
      "metadata": {
        "colab": {
          "base_uri": "https://localhost:8080/"
        },
        "id": "tZaKDNwPii0Y",
        "outputId": "fc92a1b0-8155-46d0-eb6d-f19016e89838"
      },
      "execution_count": null,
      "outputs": [
        {
          "output_type": "execute_result",
          "data": {
            "text/plain": [
              "(10000, 128)"
            ]
          },
          "metadata": {},
          "execution_count": 46
        }
      ]
    },
    {
      "cell_type": "code",
      "source": [
        "import io\n",
        "out_v = io.open('vectors.tsv', 'w', encoding='utf-8')\n",
        "out_m = io.open('metadata.tsv', 'w', encoding='utf-8')\n",
        "\n",
        "for index, word in enumerate(words_in_vocab):\n",
        "  if index == 0:\n",
        "    continue\n",
        "  vec = embed_weights[index]\n",
        "  out_v.write('\\t'.join([str(x) for x in vec]) + \"\\n\")\n",
        "  out_m.write(word + \"\\n\")\n",
        "\n",
        "out_v.close()\n",
        "out_m.close()"
      ],
      "metadata": {
        "id": "NdiwldGOimsE"
      },
      "execution_count": null,
      "outputs": []
    },
    {
      "cell_type": "markdown",
      "source": [
        "### Recurrent Neural Network (RNN)"
      ],
      "metadata": {
        "id": "CeY2Mniui2k-"
      }
    },
    {
      "cell_type": "markdown",
      "source": [
        "### Model 2: LST\n",
        "\n",
        "LSTM = long short term memory"
      ],
      "metadata": {
        "id": "_lGB253qkuYp"
      }
    },
    {
      "cell_type": "code",
      "source": [
        "tf.constant([\"Hallo this is a tweet\"]).shape"
      ],
      "metadata": {
        "colab": {
          "base_uri": "https://localhost:8080/"
        },
        "id": "oLvZFXzYn8do",
        "outputId": "b5fa947b-0376-4b5d-9d76-469beea69882"
      },
      "execution_count": null,
      "outputs": [
        {
          "output_type": "execute_result",
          "data": {
            "text/plain": [
              "TensorShape([1])"
            ]
          },
          "metadata": {},
          "execution_count": 48
        }
      ]
    },
    {
      "cell_type": "code",
      "source": [
        "# Create an LSTM model\n",
        "\n",
        "from tensorflow.keras import layers\n",
        "inputs = layers.Input(shape=(1,), dtype=tf.string)\n",
        "x = text_vectorizer(inputs)\n",
        "x = embedding(x)\n",
        "x = layers.LSTM(units=64, return_sequences=True)(x)\n",
        "x = layers.LSTM(64)(x)\n",
        "x = layers.Dense(64, activation=\"relu\")(x)\n",
        "outputs = layers.Dense(1, activation=\"sigmoid\")(x)\n",
        "model_2 = tf.keras.Model(inputs, outputs, name=\"model_2_LSTM\")"
      ],
      "metadata": {
        "id": "lGDds4W3m3ff"
      },
      "execution_count": null,
      "outputs": []
    },
    {
      "cell_type": "code",
      "source": [
        "model_2.summary()"
      ],
      "metadata": {
        "colab": {
          "base_uri": "https://localhost:8080/"
        },
        "id": "utFd4ZFOojga",
        "outputId": "1f6bd5b1-4dbf-4fcc-d2eb-1407d50a1533"
      },
      "execution_count": null,
      "outputs": [
        {
          "output_type": "stream",
          "name": "stdout",
          "text": [
            "Model: \"model_2_LSTM\"\n",
            "_________________________________________________________________\n",
            " Layer (type)                Output Shape              Param #   \n",
            "=================================================================\n",
            " input_2 (InputLayer)        [(None, 1)]               0         \n",
            "                                                                 \n",
            " text_vectorization_1 (TextV  (None, 15)               0         \n",
            " ectorization)                                                   \n",
            "                                                                 \n",
            " embedding (Embedding)       (None, 15, 128)           1280000   \n",
            "                                                                 \n",
            " lstm (LSTM)                 (None, 15, 64)            49408     \n",
            "                                                                 \n",
            " lstm_1 (LSTM)               (None, 64)                33024     \n",
            "                                                                 \n",
            " dense (Dense)               (None, 64)                4160      \n",
            "                                                                 \n",
            " dense_1 (Dense)             (None, 1)                 65        \n",
            "                                                                 \n",
            "=================================================================\n",
            "Total params: 1,366,657\n",
            "Trainable params: 1,366,657\n",
            "Non-trainable params: 0\n",
            "_________________________________________________________________\n"
          ]
        }
      ]
    },
    {
      "cell_type": "code",
      "source": [
        "model_2.compile(loss=tf.keras.losses.BinaryCrossentropy(),\n",
        "                optimizer=tf.keras.optimizers.Adam(),\n",
        "                metrics=[\"accuracy\"])"
      ],
      "metadata": {
        "id": "mX5pc-lzqSOp"
      },
      "execution_count": null,
      "outputs": []
    },
    {
      "cell_type": "code",
      "source": [
        "history_2 = model_2.fit(train_text,\n",
        "                        train_labels,\n",
        "                        epochs=5,\n",
        "                        validation_data=(val_text, val_labels),\n",
        "                        callbacks=[create_tensorboard_callback(SAVE_DIR, 'model_2')])"
      ],
      "metadata": {
        "colab": {
          "base_uri": "https://localhost:8080/"
        },
        "id": "5TQTIutFrJwu",
        "outputId": "aa2a6ce3-8821-4216-e922-689c3bab8135"
      },
      "execution_count": null,
      "outputs": [
        {
          "output_type": "stream",
          "name": "stdout",
          "text": [
            "Saving TensorBoard log files to: model_logs/model_2/20220726-114420\n",
            "Epoch 1/5\n",
            "215/215 [==============================] - 12s 11ms/step - loss: 0.2218 - accuracy: 0.9219 - val_loss: 0.6495 - val_accuracy: 0.7795\n",
            "Epoch 2/5\n",
            "215/215 [==============================] - 2s 8ms/step - loss: 0.1594 - accuracy: 0.9410 - val_loss: 0.6064 - val_accuracy: 0.7782\n",
            "Epoch 3/5\n",
            "215/215 [==============================] - 2s 8ms/step - loss: 0.1348 - accuracy: 0.9515 - val_loss: 0.7413 - val_accuracy: 0.7743\n",
            "Epoch 4/5\n",
            "215/215 [==============================] - 2s 8ms/step - loss: 0.1111 - accuracy: 0.9581 - val_loss: 0.7759 - val_accuracy: 0.7795\n",
            "Epoch 5/5\n",
            "215/215 [==============================] - 2s 8ms/step - loss: 0.0901 - accuracy: 0.9666 - val_loss: 1.0614 - val_accuracy: 0.7743\n"
          ]
        }
      ]
    },
    {
      "cell_type": "code",
      "source": [
        "model_2_pred_probs = model_2.predict(val_text)\n",
        "model_2_preds = tf.squeeze(tf.round(model_2_pred_probs))\n",
        "model_2_results = model_scores(val_labels, model_2_preds)\n",
        "model_2_results"
      ],
      "metadata": {
        "id": "1M9MGTfGrjd8"
      },
      "execution_count": null,
      "outputs": []
    },
    {
      "cell_type": "code",
      "source": [
        "model_2_preds = tf.squeeze(tf.round(model_2_pred_probs))\n",
        "model_2_preds[:10]"
      ],
      "metadata": {
        "colab": {
          "base_uri": "https://localhost:8080/"
        },
        "id": "rEwfnEArrvY0",
        "outputId": "32d79854-e583-41c8-f6c6-c4e666fa28ad"
      },
      "execution_count": null,
      "outputs": [
        {
          "output_type": "execute_result",
          "data": {
            "text/plain": [
              "<tf.Tensor: shape=(10,), dtype=float32, numpy=array([0., 1., 1., 0., 0., 1., 1., 1., 1., 0.], dtype=float32)>"
            ]
          },
          "metadata": {},
          "execution_count": 54
        }
      ]
    },
    {
      "cell_type": "code",
      "source": [
        "model_2_results = model_scores(val_labels, model_2_preds)\n",
        "model_2_results"
      ],
      "metadata": {
        "colab": {
          "base_uri": "https://localhost:8080/"
        },
        "id": "1GGn_y4bsBFh",
        "outputId": "97bf7859-dffe-427b-e9a7-08d1517b68f0"
      },
      "execution_count": null,
      "outputs": [
        {
          "output_type": "execute_result",
          "data": {
            "text/plain": [
              "{'accuracy': 77.42782152230971,\n",
              " 'f1': 0.7722311836526509,\n",
              " 'precision': 0.7759894665484696,\n",
              " 'recall': 0.7742782152230971}"
            ]
          },
          "metadata": {},
          "execution_count": 55
        }
      ]
    },
    {
      "cell_type": "markdown",
      "source": [],
      "metadata": {
        "id": "idHwMl5St-HW"
      }
    },
    {
      "cell_type": "markdown",
      "source": [
        "### Model 3: GRU RNN"
      ],
      "metadata": {
        "id": "Saye1o3usO_8"
      }
    },
    {
      "cell_type": "code",
      "source": [
        "\n",
        "inputs = layers.Input(shape=(1,), dtype=tf.string)\n",
        "x = text_vectorizer(inputs)\n",
        "x = embedding(x)\n",
        "x = layers.GRU(64, return_sequences=True)(x)\n",
        "# x = layers.LSTM(units=64, return_sequences=True)(x)\n",
        "# x = layers.GRU(64, dropout=0.2)(x)\n",
        "# x = layers.Dense(64, activation=\"relu\")(x)\n",
        "x = layers.GlobalAveragePooling1D()(x)\n",
        "outputs=layers.Dense(1, activation=\"sigmoid\")(x)\n",
        "\n",
        "model_3 = tf.keras.Model(inputs, outputs)"
      ],
      "metadata": {
        "id": "WYWLI8HttdXh"
      },
      "execution_count": null,
      "outputs": []
    },
    {
      "cell_type": "code",
      "source": [
        "model_3.compile(loss=tf.keras.losses.BinaryCrossentropy(),\n",
        "                optimizer=tf.keras.optimizers.Adam(),\n",
        "                metrics=[\"accuracy\"])"
      ],
      "metadata": {
        "id": "NQEodOixv8Dd"
      },
      "execution_count": null,
      "outputs": []
    },
    {
      "cell_type": "code",
      "source": [
        "history_3 = model_3.fit(train_text,\n",
        "                        train_labels,\n",
        "                        epochs=5,\n",
        "                        validation_data=(val_text, val_labels),\n",
        "                        callbacks=[create_tensorboard_callback(SAVE_DIR, 'model_3')])"
      ],
      "metadata": {
        "colab": {
          "base_uri": "https://localhost:8080/"
        },
        "id": "hPyxqfMwwJTi",
        "outputId": "c14f01da-1371-4a73-d52a-8d2b256cec04"
      },
      "execution_count": null,
      "outputs": [
        {
          "output_type": "stream",
          "name": "stdout",
          "text": [
            "Saving TensorBoard log files to: model_logs/model_3/20220726-121206\n",
            "Epoch 1/5\n",
            "215/215 [==============================] - 1s 6ms/step - loss: 0.0452 - accuracy: 0.9800 - val_loss: 1.4957 - val_accuracy: 0.7467\n",
            "Epoch 2/5\n",
            "215/215 [==============================] - 1s 6ms/step - loss: 0.0424 - accuracy: 0.9800 - val_loss: 1.3869 - val_accuracy: 0.7507\n",
            "Epoch 3/5\n",
            "215/215 [==============================] - 1s 6ms/step - loss: 0.0415 - accuracy: 0.9791 - val_loss: 1.6278 - val_accuracy: 0.7520\n",
            "Epoch 4/5\n",
            "215/215 [==============================] - 1s 6ms/step - loss: 0.0384 - accuracy: 0.9828 - val_loss: 1.6103 - val_accuracy: 0.7493\n",
            "Epoch 5/5\n",
            "215/215 [==============================] - 1s 6ms/step - loss: 0.0377 - accuracy: 0.9818 - val_loss: 1.6989 - val_accuracy: 0.7520\n"
          ]
        }
      ]
    },
    {
      "cell_type": "markdown",
      "source": [
        "### Model 4: Bidirectional LSTM"
      ],
      "metadata": {
        "id": "WCRGwUkrwN4G"
      }
    },
    {
      "cell_type": "code",
      "source": [
        "inputs = layers.Input(shape=(1,), dtype=tf.string)\n",
        "x = text_vectorizer(inputs)\n",
        "x = embedding(x)\n",
        "x = layers.Bidirectional(layers.LSTM(64, return_sequences=True))(x)\n",
        "x = layers.Bidirectional(layers.GRU(64))(x)\n",
        "outputs = layers.Dense(1, activation=\"sigmoid\")(x)\n",
        "model_4 = tf.keras.Model(inputs, outputs)"
      ],
      "metadata": {
        "id": "f_r_MeCqeZap"
      },
      "execution_count": null,
      "outputs": []
    },
    {
      "cell_type": "code",
      "source": [
        "model_4.summary()"
      ],
      "metadata": {
        "colab": {
          "base_uri": "https://localhost:8080/"
        },
        "id": "RjGM93_Nef0-",
        "outputId": "626a1c8d-f222-45e7-f898-38b13e5c820e"
      },
      "execution_count": null,
      "outputs": [
        {
          "output_type": "stream",
          "name": "stdout",
          "text": [
            "Model: \"model_6\"\n",
            "_________________________________________________________________\n",
            " Layer (type)                Output Shape              Param #   \n",
            "=================================================================\n",
            " input_16 (InputLayer)       [(None, 1)]               0         \n",
            "                                                                 \n",
            " text_vectorization_1 (TextV  (None, 15)               0         \n",
            " ectorization)                                                   \n",
            "                                                                 \n",
            " embedding (Embedding)       (None, 15, 128)           1280000   \n",
            "                                                                 \n",
            " bidirectional_20 (Bidirecti  (None, 15, 128)          98816     \n",
            " onal)                                                           \n",
            "                                                                 \n",
            " bidirectional_21 (Bidirecti  (None, 128)              74496     \n",
            " onal)                                                           \n",
            "                                                                 \n",
            " dense_14 (Dense)            (None, 1)                 129       \n",
            "                                                                 \n",
            "=================================================================\n",
            "Total params: 1,453,441\n",
            "Trainable params: 1,453,441\n",
            "Non-trainable params: 0\n",
            "_________________________________________________________________\n"
          ]
        }
      ]
    },
    {
      "cell_type": "code",
      "source": [
        "model_4.compile(loss=tf.keras.losses.BinaryCrossentropy(),\n",
        "                optimizer=tf.keras.optimizers.Adam(),\n",
        "                metrics=[\"accuracy\"])"
      ],
      "metadata": {
        "id": "GpUZCsKYe4RC"
      },
      "execution_count": null,
      "outputs": []
    },
    {
      "cell_type": "code",
      "source": [
        "history_4 = model_4.fit(train_text,\n",
        "                        train_labels,\n",
        "                        epochs=5,\n",
        "                        validation_data=(val_text, val_labels),\n",
        "                        callbacks=[create_tensorboard_callback(SAVE_DIR, 'model_4')])"
      ],
      "metadata": {
        "colab": {
          "base_uri": "https://localhost:8080/"
        },
        "id": "J6UaK5YqfOAp",
        "outputId": "1a0f45eb-b4c1-43f7-f800-31719616473d"
      },
      "execution_count": null,
      "outputs": [
        {
          "output_type": "stream",
          "name": "stdout",
          "text": [
            "Saving TensorBoard log files to: model_logs/model_4/20220726-123054\n",
            "Epoch 1/5\n",
            "215/215 [==============================] - 11s 18ms/step - loss: 0.0913 - accuracy: 0.9667 - val_loss: 1.3455 - val_accuracy: 0.7467\n",
            "Epoch 2/5\n",
            "215/215 [==============================] - 2s 11ms/step - loss: 0.0444 - accuracy: 0.9794 - val_loss: 1.5125 - val_accuracy: 0.7533\n",
            "Epoch 3/5\n",
            "215/215 [==============================] - 2s 11ms/step - loss: 0.0399 - accuracy: 0.9822 - val_loss: 1.5693 - val_accuracy: 0.7546\n",
            "Epoch 4/5\n",
            "215/215 [==============================] - 2s 12ms/step - loss: 0.0370 - accuracy: 0.9810 - val_loss: 1.5355 - val_accuracy: 0.7493\n",
            "Epoch 5/5\n",
            "215/215 [==============================] - 2s 12ms/step - loss: 0.0367 - accuracy: 0.9823 - val_loss: 1.3120 - val_accuracy: 0.7520\n"
          ]
        }
      ]
    },
    {
      "cell_type": "markdown",
      "source": [
        "### Model 5: Conv1D"
      ],
      "metadata": {
        "id": "qWkLq7QNfSAn"
      }
    },
    {
      "cell_type": "code",
      "source": [
        "# Test our embedding layer, conv1d layer and max pooling\n",
        "\n",
        "embedding_test = embedding(text_vectorizer([\"this is a flood warning\"]))\n",
        "conv_1d = layers.Conv1D(filters=32,\n",
        "                        kernel_size=5,\n",
        "                        activation=\"relu\",\n",
        "                        padding=\"valid\")\n",
        "\n",
        "conv_1d_output = conv_1d(embedding_test)\n",
        "max_pool = layers.GlobalMaxPool1D()\n",
        "max_pool_output = max_pool(conv_1d_output)\n",
        "\n"
      ],
      "metadata": {
        "id": "J4CpPFIcmcWX"
      },
      "execution_count": null,
      "outputs": []
    },
    {
      "cell_type": "code",
      "source": [
        "max_pool_output"
      ],
      "metadata": {
        "colab": {
          "base_uri": "https://localhost:8080/"
        },
        "id": "Z9JfoldznYeC",
        "outputId": "bf6a7a0e-0eff-4be9-dca8-ac7d35754d02"
      },
      "execution_count": null,
      "outputs": [
        {
          "output_type": "execute_result",
          "data": {
            "text/plain": [
              "<tf.Tensor: shape=(1, 32), dtype=float32, numpy=\n",
              "array([[0.10524355, 0.3506496 , 0.31206405, 0.19769254, 0.20759478,\n",
              "        0.09032463, 0.11349934, 0.32397807, 0.06071264, 0.16530666,\n",
              "        0.1760705 , 0.16524252, 0.16416475, 0.2535678 , 0.35452026,\n",
              "        0.17071691, 0.21536839, 0.17813346, 0.2449894 , 0.2659509 ,\n",
              "        0.2216869 , 0.28165793, 0.15085089, 0.3683449 , 0.19248782,\n",
              "        0.27810994, 0.34750652, 0.16629592, 0.11591729, 0.03156529,\n",
              "        0.21412146, 0.20680226]], dtype=float32)>"
            ]
          },
          "metadata": {},
          "execution_count": 78
        }
      ]
    },
    {
      "cell_type": "code",
      "source": [
        "embedding_test.shape, conv_1d_output.shape, max_pool_output.shape"
      ],
      "metadata": {
        "colab": {
          "base_uri": "https://localhost:8080/"
        },
        "id": "WDGAol1qndE7",
        "outputId": "8579d43a-0212-4c91-bab9-89ec2ef75a65"
      },
      "execution_count": null,
      "outputs": [
        {
          "output_type": "execute_result",
          "data": {
            "text/plain": [
              "(TensorShape([1, 15, 128]), TensorShape([1, 11, 32]), TensorShape([1, 32]))"
            ]
          },
          "metadata": {},
          "execution_count": 79
        }
      ]
    },
    {
      "cell_type": "code",
      "source": [
        "inputs = layers.Input(shape=(1,), dtype=tf.string)\n",
        "x = text_vectorizer(inputs)\n",
        "x = embedding(x)\n",
        "x = layers.Conv1D(filters=64,\n",
        "                  kernel_size=5,\n",
        "                  padding='same',\n",
        "                  activation='relu')(x)\n",
        "x = layers.Conv1D(filters=64,\n",
        "                  kernel_size=2,\n",
        "                  padding='same',\n",
        "                  activation='relu')(x)\n",
        "x = layers.GlobalMaxPool1D()(x)\n",
        "\n",
        "outputs = layers.Dense(1, activation=\"sigmoid\")(x)\n",
        "\n",
        "model_5 = tf.keras.Model(inputs, outputs)"
      ],
      "metadata": {
        "id": "QC5NhEg2npl1"
      },
      "execution_count": null,
      "outputs": []
    },
    {
      "cell_type": "code",
      "source": [
        "model_5.compile(loss=tf.keras.losses.BinaryCrossentropy(),\n",
        "                optimizer=tf.keras.optimizers.Adam(),\n",
        "                metrics=[\"accuracy\"])"
      ],
      "metadata": {
        "id": "FNrNkHAlr1hs"
      },
      "execution_count": null,
      "outputs": []
    },
    {
      "cell_type": "code",
      "source": [
        "history_5 = model_5.fit(train_text,\n",
        "                        train_labels,\n",
        "                        epochs=5,\n",
        "                        validation_data=(val_text, val_labels),\n",
        "                        callbacks=[create_tensorboard_callback(SAVE_DIR, 'model_5')])"
      ],
      "metadata": {
        "colab": {
          "base_uri": "https://localhost:8080/"
        },
        "id": "8nMgfA50r8r-",
        "outputId": "6247e2c7-941a-4360-a499-b5785d782c25"
      },
      "execution_count": null,
      "outputs": [
        {
          "output_type": "stream",
          "name": "stdout",
          "text": [
            "Saving TensorBoard log files to: model_logs/model_5/20220726-132937\n",
            "Epoch 1/5\n",
            "215/215 [==============================] - 3s 9ms/step - loss: 0.0753 - accuracy: 0.9743 - val_loss: 1.1200 - val_accuracy: 0.7402\n",
            "Epoch 2/5\n",
            "215/215 [==============================] - 1s 5ms/step - loss: 0.0433 - accuracy: 0.9810 - val_loss: 1.2696 - val_accuracy: 0.7480\n",
            "Epoch 3/5\n",
            "215/215 [==============================] - 1s 5ms/step - loss: 0.0402 - accuracy: 0.9816 - val_loss: 1.2717 - val_accuracy: 0.7454\n",
            "Epoch 4/5\n",
            "215/215 [==============================] - 1s 5ms/step - loss: 0.0388 - accuracy: 0.9818 - val_loss: 1.2786 - val_accuracy: 0.7454\n",
            "Epoch 5/5\n",
            "215/215 [==============================] - 1s 5ms/step - loss: 0.0368 - accuracy: 0.9823 - val_loss: 1.4210 - val_accuracy: 0.7454\n"
          ]
        }
      ]
    },
    {
      "cell_type": "markdown",
      "source": [
        "### Model 6: TensorFlow hub pretrained sentence encoder"
      ],
      "metadata": {
        "id": "MkUZKC6YsBgR"
      }
    },
    {
      "cell_type": "code",
      "source": [
        "import tensorflow_hub as hub\n",
        "embed = hub.load(\"https://tfhub.dev/google/universal-sentence-encoder/4\")"
      ],
      "metadata": {
        "id": "YZywd9m-tc4B"
      },
      "execution_count": null,
      "outputs": []
    },
    {
      "cell_type": "code",
      "source": [
        "embed([sample_sentence])"
      ],
      "metadata": {
        "colab": {
          "base_uri": "https://localhost:8080/"
        },
        "id": "MRFluNaCvIBk",
        "outputId": "15419f74-221d-44fd-f5e1-d84666108f2e"
      },
      "execution_count": null,
      "outputs": [
        {
          "output_type": "execute_result",
          "data": {
            "text/plain": [
              "<tf.Tensor: shape=(1, 512), dtype=float32, numpy=\n",
              "array([[-0.01157024,  0.02485911,  0.02878048, -0.01271502,  0.0397154 ,\n",
              "         0.08827759,  0.02680984,  0.05589837, -0.01068729, -0.00597293,\n",
              "         0.00639323, -0.01819519,  0.00030816,  0.09105889,  0.05874645,\n",
              "        -0.03180628,  0.01512473, -0.05162928,  0.00991364, -0.06865346,\n",
              "        -0.04209306,  0.02678978,  0.03011007,  0.00321067, -0.00337968,\n",
              "        -0.04787357,  0.02266722, -0.00985927, -0.04063614, -0.01292094,\n",
              "        -0.04666385,  0.056303  , -0.03949257,  0.00517688,  0.02495825,\n",
              "        -0.07014439,  0.02871507,  0.04947682, -0.00633977, -0.08960193,\n",
              "         0.02807119, -0.00808361, -0.01360602,  0.05998649, -0.10361786,\n",
              "        -0.05195374,  0.00232955, -0.02332531, -0.03758105,  0.0332773 ,\n",
              "        -0.00430603, -0.05894247, -0.06101276, -0.02220004, -0.01575761,\n",
              "        -0.00474413, -0.03515062, -0.04440378, -0.04174353,  0.04943503,\n",
              "        -0.02740929, -0.04133103,  0.01634344, -0.03713681,  0.07395207,\n",
              "        -0.00659239, -0.0694331 , -0.0036175 ,  0.08656701,  0.07717377,\n",
              "        -0.06633056,  0.0208663 ,  0.06676424,  0.00982105,  0.01410717,\n",
              "         0.0767223 ,  0.05026635,  0.02969932, -0.01391872,  0.06082514,\n",
              "         0.08967172, -0.01739941, -0.02335795,  0.0198095 , -0.05318436,\n",
              "        -0.00597196, -0.01789535,  0.03518633,  0.03316378, -0.01078375,\n",
              "        -0.04246281,  0.02813076, -0.04440409,  0.02138844, -0.07827791,\n",
              "         0.00378781,  0.02113328,  0.0489828 ,  0.0186265 ,  0.04409023,\n",
              "        -0.00877465, -0.08009901, -0.06491723,  0.03673801,  0.02910935,\n",
              "         0.0437706 , -0.02771872, -0.00020969, -0.04724235,  0.00211793,\n",
              "         0.00241364, -0.03451072, -0.05195144,  0.04019913, -0.01107911,\n",
              "         0.02099738,  0.07319079, -0.06645014,  0.02918022,  0.07274126,\n",
              "         0.09450106, -0.05549989, -0.02150273, -0.0216001 , -0.09313714,\n",
              "         0.03371135, -0.01765813,  0.02668389, -0.01314883,  0.07629127,\n",
              "         0.05064229,  0.03545805, -0.05802931, -0.00128817,  0.02550666,\n",
              "        -0.06641154, -0.04101514, -0.0754917 ,  0.0149991 , -0.01135046,\n",
              "        -0.04933347, -0.07272243,  0.0036388 , -0.01518946,  0.05594091,\n",
              "        -0.04914048, -0.0184242 , -0.01433045, -0.06046044,  0.02016241,\n",
              "         0.05592834, -0.01900854,  0.03671473,  0.00335186, -0.0653839 ,\n",
              "        -0.04100157,  0.00468299, -0.03396352,  0.04442609,  0.07719965,\n",
              "        -0.08504523,  0.01783494,  0.02114926, -0.05993735, -0.04932677,\n",
              "        -0.05756366,  0.10220411,  0.00475883, -0.00511756, -0.06249486,\n",
              "        -0.01093348, -0.07538158, -0.00616413, -0.05241332, -0.02642495,\n",
              "        -0.06815231, -0.02264815, -0.05251468, -0.06109069,  0.04736177,\n",
              "        -0.0211643 , -0.0278797 , -0.04840661,  0.00624503, -0.00694628,\n",
              "        -0.01796257, -0.03916381, -0.05585475, -0.01492356,  0.05002922,\n",
              "        -0.06699253,  0.07363342,  0.05643307,  0.00630319, -0.0362573 ,\n",
              "        -0.01286142,  0.06335041, -0.04099044, -0.02099766, -0.01769315,\n",
              "        -0.03773163,  0.02522286, -0.00515927,  0.09712509,  0.01081977,\n",
              "         0.03883319,  0.01335083, -0.01399826, -0.04374619,  0.03636793,\n",
              "        -0.01776028, -0.0571379 ,  0.04273817,  0.01639231,  0.00094624,\n",
              "         0.03364855,  0.04082774,  0.062793  ,  0.01755401, -0.06590243,\n",
              "         0.02764741,  0.07578105,  0.02397397,  0.00288972, -0.0202519 ,\n",
              "         0.01948244, -0.04223581, -0.0304663 ,  0.04044755, -0.0483441 ,\n",
              "        -0.02124536,  0.06924415, -0.01574234,  0.09941209,  0.07451482,\n",
              "         0.00243587,  0.04384917,  0.05336052, -0.0857785 , -0.02304755,\n",
              "        -0.01068814, -0.01797062,  0.08412117,  0.05105528,  0.01984012,\n",
              "         0.04222858, -0.04869326,  0.08947875,  0.02508027,  0.07413823,\n",
              "         0.03269235, -0.01735413, -0.03304139, -0.0495681 , -0.00326104,\n",
              "        -0.03993597, -0.03007108, -0.04603599, -0.02892622, -0.07143307,\n",
              "         0.02684832,  0.01602262, -0.06831487,  0.03801538, -0.0244148 ,\n",
              "         0.05378303,  0.03296161, -0.03403031, -0.02332752,  0.0453723 ,\n",
              "        -0.03889668, -0.00617606, -0.00882425,  0.00267764, -0.08132632,\n",
              "         0.05419117, -0.05534777, -0.02592238,  0.04277048,  0.02693451,\n",
              "        -0.03611582,  0.03778697,  0.06067452,  0.0357534 ,  0.00916522,\n",
              "        -0.00827849,  0.06276242,  0.04202009, -0.03204758,  0.02008641,\n",
              "         0.08058751, -0.05461725,  0.0779867 ,  0.05942628,  0.00883444,\n",
              "        -0.00695634,  0.02571712,  0.02623861, -0.07648964,  0.03418234,\n",
              "        -0.01819849, -0.04301028,  0.01286274, -0.04837706, -0.00910091,\n",
              "        -0.01071083,  0.000104  ,  0.0270186 , -0.0475786 ,  0.02599771,\n",
              "        -0.00684555,  0.01497614, -0.08898536,  0.03221714, -0.00036082,\n",
              "        -0.06063572, -0.03318376,  0.03554992,  0.03847635,  0.06862564,\n",
              "         0.05161575,  0.0434231 ,  0.04140063, -0.04563708, -0.03845315,\n",
              "         0.03083176,  0.00827761, -0.00866158, -0.04097844,  0.06381841,\n",
              "        -0.01308797, -0.02424813, -0.05175817,  0.0183505 , -0.07147804,\n",
              "         0.00725172, -0.0721117 ,  0.06165017, -0.03569034, -0.01217908,\n",
              "         0.06172422, -0.04625787,  0.00082076,  0.04339867,  0.00091036,\n",
              "        -0.07088619,  0.01646287, -0.08164821, -0.0371655 ,  0.04262335,\n",
              "        -0.01241012, -0.0837284 , -0.01366773,  0.00571897, -0.00477372,\n",
              "         0.06399125, -0.0943351 ,  0.01710177, -0.01227763,  0.05677067,\n",
              "        -0.00382789, -0.05680654,  0.08489885,  0.07041533, -0.00456504,\n",
              "        -0.03479038, -0.04344757, -0.06414607,  0.00166127,  0.02918554,\n",
              "         0.03372651, -0.00778522,  0.03244481, -0.00989515, -0.03030807,\n",
              "        -0.07584873,  0.05150716, -0.02841255, -0.07917358, -0.03578363,\n",
              "         0.05016286,  0.01860836,  0.00074915, -0.00872889, -0.01031673,\n",
              "        -0.0201487 , -0.09723576,  0.03965212, -0.06817243, -0.00105303,\n",
              "         0.0073734 , -0.00222845,  0.02685829,  0.06966114,  0.02972178,\n",
              "         0.0417847 , -0.02220551,  0.01747188, -0.0335375 , -0.03834696,\n",
              "        -0.01922803, -0.03150894,  0.05334109,  0.02373906, -0.01034905,\n",
              "         0.00214742, -0.04157256, -0.0302542 ,  0.00581009,  0.01137192,\n",
              "        -0.00592396, -0.05769083, -0.06344254,  0.04439219,  0.01658631,\n",
              "         0.05665409, -0.02544704,  0.02046602,  0.05887644, -0.07208315,\n",
              "        -0.03404434, -0.06583709, -0.02519126, -0.00026586,  0.0384685 ,\n",
              "        -0.02013166,  0.00200024, -0.00627342, -0.04666032, -0.00455737,\n",
              "         0.006055  , -0.01356127,  0.04474314,  0.0247194 , -0.07321871,\n",
              "        -0.05608065, -0.06762253, -0.0143357 ,  0.03541974, -0.04898684,\n",
              "        -0.04268676,  0.03438696,  0.0233097 , -0.005621  ,  0.05483437,\n",
              "         0.0128366 ,  0.02040324, -0.00852739, -0.07735823, -0.01213966,\n",
              "        -0.02332447, -0.02154289,  0.04894268, -0.08804286, -0.02543786,\n",
              "        -0.04927177, -0.04087908, -0.01773588, -0.07637208,  0.00269292,\n",
              "        -0.06028869,  0.01861773,  0.06966407, -0.06209602, -0.06811608,\n",
              "        -0.08184287, -0.02575567, -0.02269541,  0.08195685,  0.05823718,\n",
              "        -0.07867002,  0.07145878, -0.04366785,  0.02787705, -0.01257812,\n",
              "        -0.05811887,  0.03620557, -0.0550883 , -0.00261799, -0.09346888,\n",
              "         0.09706795, -0.05189688, -0.00031375,  0.06562174, -0.02415269,\n",
              "         0.00901649,  0.05061335,  0.0005609 , -0.0125241 ,  0.09506278,\n",
              "        -0.01020624, -0.01407785,  0.0539115 ,  0.04550584,  0.03244825,\n",
              "         0.04292122, -0.01375778, -0.03055825, -0.01261501,  0.05822346,\n",
              "         0.02029677,  0.03866007,  0.0068658 ,  0.00538887, -0.02150049,\n",
              "         0.00261669,  0.03741342, -0.03374723, -0.02289511, -0.00186124,\n",
              "         0.02315824, -0.01485021]], dtype=float32)>"
            ]
          },
          "metadata": {},
          "execution_count": 92
        }
      ]
    },
    {
      "cell_type": "code",
      "source": [
        "sentence_encoder_layer = hub.KerasLayer(\"https://tfhub.dev/google/universal-sentence-encoder/4\",\n",
        "                                        input_shape=[],\n",
        "                                        dtype=tf.string,\n",
        "                                        trainable=False,\n",
        "                                        name=\"USE\")"
      ],
      "metadata": {
        "id": "H7iqjaGQvf7P"
      },
      "execution_count": null,
      "outputs": []
    },
    {
      "cell_type": "code",
      "source": [
        "model_6 = tf.keras.Sequential([\n",
        "  sentence_encoder_layer,\n",
        "  layers.Dense(256, activation=\"relu\"),\n",
        "  layers.Dense(256, activation=\"relu\"),\n",
        "  layers.Dense(1, activation=\"sigmoid\")                               \n",
        "])\n",
        "\n",
        "model_6.compile(loss=tf.keras.losses.BinaryCrossentropy(),\n",
        "                optimizer=tf.keras.optimizers.Adam(),\n",
        "                metrics=[\"accuracy\"])"
      ],
      "metadata": {
        "id": "HkbIuIyZwHdn"
      },
      "execution_count": null,
      "outputs": []
    },
    {
      "cell_type": "code",
      "source": [
        "model_6.summary()"
      ],
      "metadata": {
        "colab": {
          "base_uri": "https://localhost:8080/"
        },
        "id": "ebwUuqL6wg5t",
        "outputId": "5d676ed3-12b4-42c9-c152-3dfffce49be1"
      },
      "execution_count": null,
      "outputs": [
        {
          "output_type": "stream",
          "name": "stdout",
          "text": [
            "Model: \"sequential_3\"\n",
            "_________________________________________________________________\n",
            " Layer (type)                Output Shape              Param #   \n",
            "=================================================================\n",
            " USE (KerasLayer)            (None, 512)               256797824 \n",
            "                                                                 \n",
            " dense_27 (Dense)            (None, 256)               131328    \n",
            "                                                                 \n",
            " dense_28 (Dense)            (None, 256)               65792     \n",
            "                                                                 \n",
            " dense_29 (Dense)            (None, 1)                 257       \n",
            "                                                                 \n",
            "=================================================================\n",
            "Total params: 256,995,201\n",
            "Trainable params: 197,377\n",
            "Non-trainable params: 256,797,824\n",
            "_________________________________________________________________\n"
          ]
        }
      ]
    },
    {
      "cell_type": "code",
      "source": [
        "history_6 = model_6.fit(train_text,\n",
        "                        train_labels,\n",
        "                        epochs=5,\n",
        "                        validation_data=(val_text, val_labels),\n",
        "                        callbacks=[create_tensorboard_callback(SAVE_DIR, 'model_6')])"
      ],
      "metadata": {
        "colab": {
          "base_uri": "https://localhost:8080/"
        },
        "id": "MLgGUmk7wi-y",
        "outputId": "cbbf1d7d-42a1-4124-b576-aaa56ef8278f"
      },
      "execution_count": null,
      "outputs": [
        {
          "output_type": "stream",
          "name": "stdout",
          "text": [
            "Saving TensorBoard log files to: model_logs/model_6/20220726-135205\n",
            "Epoch 1/5\n",
            "215/215 [==============================] - 5s 14ms/step - loss: 0.4551 - accuracy: 0.7977 - val_loss: 0.4288 - val_accuracy: 0.8123\n",
            "Epoch 2/5\n",
            "215/215 [==============================] - 3s 12ms/step - loss: 0.3832 - accuracy: 0.8348 - val_loss: 0.4405 - val_accuracy: 0.8123\n",
            "Epoch 3/5\n",
            "215/215 [==============================] - 3s 12ms/step - loss: 0.3498 - accuracy: 0.8523 - val_loss: 0.4294 - val_accuracy: 0.8110\n",
            "Epoch 4/5\n",
            "215/215 [==============================] - 3s 12ms/step - loss: 0.2951 - accuracy: 0.8784 - val_loss: 0.4398 - val_accuracy: 0.8215\n",
            "Epoch 5/5\n",
            "215/215 [==============================] - 3s 12ms/step - loss: 0.2311 - accuracy: 0.9104 - val_loss: 0.5067 - val_accuracy: 0.8163\n"
          ]
        }
      ]
    },
    {
      "cell_type": "code",
      "source": [
        "model_6_pred_probs = model_6.predict(val_text)\n",
        "model_6_preds = tf.squeeze(tf.round(model_6_pred_probs))\n",
        "model_6_results = model_scores(val_labels, model_6_preds)\n",
        "model_6_results"
      ],
      "metadata": {
        "colab": {
          "base_uri": "https://localhost:8080/"
        },
        "id": "gCzUatNHwuFG",
        "outputId": "0fe40462-0558-4fc7-d060-bde0f569f47d"
      },
      "execution_count": null,
      "outputs": [
        {
          "output_type": "execute_result",
          "data": {
            "text/plain": [
              "{'accuracy': 80.5774278215223,\n",
              " 'f1': 0.8047076421415382,\n",
              " 'precision': 0.8065406579811286,\n",
              " 'recall': 0.8057742782152231}"
            ]
          },
          "metadata": {},
          "execution_count": 101
        }
      ]
    },
    {
      "cell_type": "markdown",
      "source": [
        "### Model 7: TF Hub Pretrained USE but with 10% of training data"
      ],
      "metadata": {
        "id": "BtPP21r4xHJD"
      }
    },
    {
      "cell_type": "code",
      "source": [
        "train_10_percent = train_df_shuffled[['text', 'target']].sample(frac=0.1, random_state=42)\n",
        "train_text_10_percent = tf.constant(train_10_percent['text'])\n",
        "train_labels_10_percent = tf.constant(train_10_percent['target'])"
      ],
      "metadata": {
        "id": "7b8-sqaVyI1F"
      },
      "execution_count": null,
      "outputs": []
    },
    {
      "cell_type": "markdown",
      "source": [],
      "metadata": {
        "id": "XfluZT4I0p03"
      }
    },
    {
      "cell_type": "code",
      "source": [
        "len(train_text_10_percent)"
      ],
      "metadata": {
        "colab": {
          "base_uri": "https://localhost:8080/"
        },
        "id": "hldR6lgKyq0m",
        "outputId": "9c65e39d-ac10-49fb-8baa-a18d99338ddd"
      },
      "execution_count": null,
      "outputs": [
        {
          "output_type": "execute_result",
          "data": {
            "text/plain": [
              "761"
            ]
          },
          "metadata": {},
          "execution_count": 109
        }
      ]
    },
    {
      "cell_type": "code",
      "source": [
        "model_7 = tf.keras.Sequential([\n",
        "  sentence_encoder_layer,\n",
        "  layers.Dense(64, activation=\"relu\"),\n",
        "  layers.Dense(1, activation=\"sigmoid\")                               \n",
        "])\n",
        "\n",
        "model_7.compile(loss=tf.keras.losses.BinaryCrossentropy(),\n",
        "                optimizer=tf.keras.optimizers.Adam(),\n",
        "                metrics=[\"accuracy\"])"
      ],
      "metadata": {
        "id": "bT1DUmAkywnX"
      },
      "execution_count": null,
      "outputs": []
    },
    {
      "cell_type": "code",
      "source": [
        "history_7 = model_7.fit(train_text_10_percent,\n",
        "                        train_labels_10_percent,\n",
        "                        epochs=5,\n",
        "                        validation_data=(val_text, val_labels),\n",
        "                        callbacks=[create_tensorboard_callback(SAVE_DIR, 'model_7')])"
      ],
      "metadata": {
        "colab": {
          "base_uri": "https://localhost:8080/"
        },
        "id": "267jBd3yy-Dn",
        "outputId": "78611f7d-e739-4ff6-b2d8-84120cb193af"
      },
      "execution_count": null,
      "outputs": [
        {
          "output_type": "stream",
          "name": "stdout",
          "text": [
            "Saving TensorBoard log files to: model_logs/model_7/20220726-141009\n",
            "Epoch 1/5\n",
            "22/22 [==============================] - 2s 44ms/step - loss: 0.6680 - accuracy: 0.6219 - val_loss: 0.6520 - val_accuracy: 0.6640\n",
            "Epoch 2/5\n",
            "22/22 [==============================] - 1s 26ms/step - loss: 0.6049 - accuracy: 0.7752 - val_loss: 0.6035 - val_accuracy: 0.7467\n",
            "Epoch 3/5\n",
            "22/22 [==============================] - 1s 25ms/step - loss: 0.5370 - accuracy: 0.8073 - val_loss: 0.5499 - val_accuracy: 0.7690\n",
            "Epoch 4/5\n",
            "22/22 [==============================] - 1s 25ms/step - loss: 0.4729 - accuracy: 0.8365 - val_loss: 0.5139 - val_accuracy: 0.7782\n",
            "Epoch 5/5\n",
            "22/22 [==============================] - 0s 22ms/step - loss: 0.4291 - accuracy: 0.8409 - val_loss: 0.4949 - val_accuracy: 0.7782\n"
          ]
        }
      ]
    },
    {
      "cell_type": "code",
      "source": [
        "model_7_pred_probs = model_7.predict(val_text)\n",
        "model_7_preds = tf.squeeze(tf.round(model_7_pred_probs))\n",
        "model_7_results = model_scores(val_labels, model_7_preds)\n",
        "model_7_results"
      ],
      "metadata": {
        "colab": {
          "base_uri": "https://localhost:8080/"
        },
        "id": "zRN9Cdt2zCq1",
        "outputId": "655cf472-2413-4de3-e3d8-55ae0e8b76cc"
      },
      "execution_count": null,
      "outputs": [
        {
          "output_type": "execute_result",
          "data": {
            "text/plain": [
              "{'accuracy': 82.67716535433071,\n",
              " 'f1': 0.8263150169682,\n",
              " 'precision': 0.8267925316153663,\n",
              " 'recall': 0.8267716535433071}"
            ]
          },
          "metadata": {},
          "execution_count": 116
        }
      ]
    },
    {
      "cell_type": "code",
      "source": [
        "train_text_10_percent = train_text[:int(0.1*len(train_text))]\n",
        "train_labels_10_percent = train_labels[:int(0.1*len(train_text))]"
      ],
      "metadata": {
        "id": "9ZnSz0ue0sia"
      },
      "execution_count": null,
      "outputs": []
    },
    {
      "cell_type": "code",
      "source": [
        "len(train_text_10_percent), len(train_labels_10_percent)"
      ],
      "metadata": {
        "colab": {
          "base_uri": "https://localhost:8080/"
        },
        "id": "RemzHjrM1VB9",
        "outputId": "7a16229c-9949-411d-fd18-f0d1d105ca6b"
      },
      "execution_count": null,
      "outputs": [
        {
          "output_type": "execute_result",
          "data": {
            "text/plain": [
              "(685, 685)"
            ]
          },
          "metadata": {},
          "execution_count": 118
        }
      ]
    },
    {
      "cell_type": "code",
      "source": [
        "pd.Series(train_labels_10_percent).value_counts()"
      ],
      "metadata": {
        "colab": {
          "base_uri": "https://localhost:8080/"
        },
        "id": "vo5tZY6I1bpo",
        "outputId": "e86dae1c-592f-449c-92b0-dd0dfdac5c51"
      },
      "execution_count": null,
      "outputs": [
        {
          "output_type": "execute_result",
          "data": {
            "text/plain": [
              "0    406\n",
              "1    279\n",
              "dtype: int64"
            ]
          },
          "metadata": {},
          "execution_count": 123
        }
      ]
    },
    {
      "cell_type": "code",
      "source": [],
      "metadata": {
        "id": "Msf9xZ0H1grl"
      },
      "execution_count": null,
      "outputs": []
    }
  ]
}